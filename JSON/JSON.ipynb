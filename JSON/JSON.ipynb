{
 "cells": [
  {
   "cell_type": "code",
   "execution_count": 6,
   "metadata": {},
   "outputs": [
    {
     "name": "stdout",
     "output_type": "stream",
     "text": [
      "Date:2024-05-08 14:32:29.536120 Share price :100 ,Ticker symbol :ABC\n",
      "Date:2024-05-08 14:34:59.217971 Share price :100 ,Ticker symbol :ABC\n",
      "Date:2024-05-08 14:36:15.331522 Share price :100 ,Ticker symbol :ABC\n",
      "Date:2024-05-08 14:38:52.697212 Share price :100 ,Ticker symbol :ABC\n",
      "Date:2024-05-08 14:39:07.335139 Share price :100 ,Ticker symbol :ABC\n",
      "\n",
      "Date:2024-05-08 14:36:15.331522 Share price :150 ,Ticker symbol :XYZ\n",
      "Date:2024-05-08 14:38:52.699212 Share price :None ,Ticker symbol :xyz\n",
      "Date:2024-05-08 14:39:07.335139 Share price :150 ,Ticker symbol :XYZ\n",
      "\n"
     ]
    }
   ],
   "source": [
    "from datetime import datetime\n",
    "import json\n",
    "def load_data():\n",
    "    with open('stocks.json') as f:\n",
    "        return json.load(f)\n",
    "    \n",
    "def get_price(symbol):\n",
    "    data=load_data()\n",
    "    for stock in data:\n",
    "        if stock['ticker_symbol']==symbol:\n",
    "            return stock['share_price']\n",
    "    return None\n",
    "    \n",
    "def write_js(symbol):\n",
    "    price=get_price(symbol)\n",
    "    now=datetime.now()\n",
    "    with open(f\"{symbol}.txt\",'a') as f:\n",
    "        f.write(f'Date:{now} Share price :{price} ,Ticker symbol :{symbol}\\n')\n",
    "\n",
    "def load_exe(symbol):\n",
    "    write_js(symbol)\n",
    "    with open(f'{symbol}.txt','r') as f:\n",
    "        v=f.read()\n",
    "        print(v)\n",
    "load_exe(\"ABC\")\n",
    "load_exe(\"XYZ\")"
   ]
  }
 ],
 "metadata": {
  "kernelspec": {
   "display_name": "Python 3",
   "language": "python",
   "name": "python3"
  },
  "language_info": {
   "codemirror_mode": {
    "name": "ipython",
    "version": 3
   },
   "file_extension": ".py",
   "mimetype": "text/x-python",
   "name": "python",
   "nbconvert_exporter": "python",
   "pygments_lexer": "ipython3",
   "version": "3.12.3"
  }
 },
 "nbformat": 4,
 "nbformat_minor": 2
}
