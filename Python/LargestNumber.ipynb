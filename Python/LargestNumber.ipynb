{
 "cells": [
  {
   "cell_type": "code",
   "execution_count": 13,
   "metadata": {},
   "outputs": [
    {
     "name": "stdout",
     "output_type": "stream",
     "text": [
      "The largest number is: 105\n"
     ]
    }
   ],
   "source": [
    "numbers = [15,3,62,55,100,105,47]\n",
    "def largest(numbers):\n",
    "    if not numbers:\n",
    "        return 'No numbers provided'\n",
    "    else:\n",
    "        largest = numbers[0]\n",
    "        for num in numbers:\n",
    "            if num >= largest:\n",
    "                largest = num\n",
    "        return largest\n",
    "\n",
    "print(\"The largest number is:\", largest(numbers))\n"
   ]
  }
 ],
 "metadata": {
  "kernelspec": {
   "display_name": "Python 3",
   "language": "python",
   "name": "python3"
  },
  "language_info": {
   "codemirror_mode": {
    "name": "ipython",
    "version": 3
   },
   "file_extension": ".py",
   "mimetype": "text/x-python",
   "name": "python",
   "nbconvert_exporter": "python",
   "pygments_lexer": "ipython3",
   "version": "3.12.3"
  }
 },
 "nbformat": 4,
 "nbformat_minor": 2
}
