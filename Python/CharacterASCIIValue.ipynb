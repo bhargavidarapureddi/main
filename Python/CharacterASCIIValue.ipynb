{
 "cells": [
  {
   "cell_type": "code",
   "execution_count": 2,
   "metadata": {},
   "outputs": [
    {
     "name": "stdout",
     "output_type": "stream",
     "text": [
      "ASCII value of b is: 98\n"
     ]
    }
   ],
   "source": [
    "char = 'b'\n",
    "ascii_value = ord(char)\n",
    "print(\"ASCII value of\", char, \"is:\", ascii_value)"
   ]
  },
  {
   "cell_type": "code",
   "execution_count": 5,
   "metadata": {},
   "outputs": [
    {
     "name": "stdout",
     "output_type": "stream",
     "text": [
      "ASCII values of characters in Bhargavi are: [66, 104, 97, 114, 103, 97, 118, 105]\n"
     ]
    }
   ],
   "source": [
    "string = \"Bhargavi\"\n",
    "ascii_values = [ord(char) for char in string]\n",
    "print(\"ASCII values of characters in\", string, \"are:\", ascii_values)\n"
   ]
  }
 ],
 "metadata": {
  "kernelspec": {
   "display_name": "Python 3",
   "language": "python",
   "name": "python3"
  },
  "language_info": {
   "codemirror_mode": {
    "name": "ipython",
    "version": 3
   },
   "file_extension": ".py",
   "mimetype": "text/x-python",
   "name": "python",
   "nbconvert_exporter": "python",
   "pygments_lexer": "ipython3",
   "version": "3.12.3"
  }
 },
 "nbformat": 4,
 "nbformat_minor": 2
}
