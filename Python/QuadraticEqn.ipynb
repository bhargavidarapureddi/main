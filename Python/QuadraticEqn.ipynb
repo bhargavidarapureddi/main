{
 "cells": [
  {
   "cell_type": "code",
   "execution_count": 11,
   "metadata": {},
   "outputs": [
    {
     "name": "stdout",
     "output_type": "stream",
     "text": [
      "(-0.5714285714285714+0.9793792286287205j)\n"
     ]
    }
   ],
   "source": [
    "def solve_quadratic(a, b, c):\n",
    "    discriminant = (b**2) - (4*a*c)\n",
    "    \n",
    "    if discriminant >= 0:\n",
    "        solution1 = (-b - (discriminant ** 0.5)) / (2*a)\n",
    "        \n",
    "        return solution1\n",
    "    else:\n",
    "       solution2 = (-b + (discriminant ** 0.5)) / (2*a)\n",
    "       return solution2\n",
    "def main():\n",
    "    a = float(input())\n",
    "    b = float(input())\n",
    "    c = float(input())\n",
    "    \n",
    "    solution = solve_quadratic(a, b, c)\n",
    "    \n",
    "    print(solution)\n",
    "\n",
    "if __name__ == \"__main__\":\n",
    "    main()\n"
   ]
  }
 ],
 "metadata": {
  "kernelspec": {
   "display_name": "Python 3",
   "language": "python",
   "name": "python3"
  },
  "language_info": {
   "codemirror_mode": {
    "name": "ipython",
    "version": 3
   },
   "file_extension": ".py",
   "mimetype": "text/x-python",
   "name": "python",
   "nbconvert_exporter": "python",
   "pygments_lexer": "ipython3",
   "version": "3.12.3"
  }
 },
 "nbformat": 4,
 "nbformat_minor": 2
}
