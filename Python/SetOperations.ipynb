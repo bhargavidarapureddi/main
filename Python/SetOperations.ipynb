{
 "cells": [
  {
   "cell_type": "code",
   "execution_count": 2,
   "metadata": {},
   "outputs": [
    {
     "name": "stdout",
     "output_type": "stream",
     "text": [
      "union_set: {3, 4, 5, 8, 9}\n",
      "intersection_set: {3}\n",
      "difference_set: {9, 5}\n",
      "symmetric_difference_set: {4, 5, 8, 9}\n"
     ]
    }
   ],
   "source": [
    "x = {5, 9, 3}\n",
    "y = {4, 3, 8}\n",
    "\n",
    "union_set = x|y\n",
    "intersection_set = x&y\n",
    "difference_set = x-y\n",
    "symmetric_difference_set = x^y\n",
    "\n",
    "print(\"union_set:\", union_set)\n",
    "print(\"intersection_set:\", intersection_set)\n",
    "print(\"difference_set:\", difference_set)\n",
    "print(\"symmetric_difference_set:\", symmetric_difference_set)"
   ]
  }
 ],
 "metadata": {
  "kernelspec": {
   "display_name": "Python 3",
   "language": "python",
   "name": "python3"
  },
  "language_info": {
   "codemirror_mode": {
    "name": "ipython",
    "version": 3
   },
   "file_extension": ".py",
   "mimetype": "text/x-python",
   "name": "python",
   "nbconvert_exporter": "python",
   "pygments_lexer": "ipython3",
   "version": "3.12.3"
  }
 },
 "nbformat": 4,
 "nbformat_minor": 2
}
