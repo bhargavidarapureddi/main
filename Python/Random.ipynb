{
 "cells": [
  {
   "cell_type": "code",
   "execution_count": 4,
   "metadata": {},
   "outputs": [
    {
     "name": "stdout",
     "output_type": "stream",
     "text": [
      "3\n"
     ]
    }
   ],
   "source": [
    "#random number\n",
    "import random\n",
    "print(random.randint(1,10))"
   ]
  },
  {
   "cell_type": "code",
   "execution_count": 39,
   "metadata": {},
   "outputs": [
    {
     "name": "stdout",
     "output_type": "stream",
     "text": [
      "4withSpades\n"
     ]
    }
   ],
   "source": [
    "#random cards\n",
    "import random\n",
    "suits=['Hearts','Diamonds','Spades','Clubs']\n",
    "ranks=['2','3','4','5','6','7','8','9','10','King','Queen','Ace','Jack']\n",
    "\n",
    "suits=random.choice(suits)\n",
    "ranks=random.choice(ranks)\n",
    "\n",
    "card=ranks+'with'+suits\n",
    "print(card)\n",
    "\n"
   ]
  }
 ],
 "metadata": {
  "kernelspec": {
   "display_name": "Python 3",
   "language": "python",
   "name": "python3"
  },
  "language_info": {
   "codemirror_mode": {
    "name": "ipython",
    "version": 3
   },
   "file_extension": ".py",
   "mimetype": "text/x-python",
   "name": "python",
   "nbconvert_exporter": "python",
   "pygments_lexer": "ipython3",
   "version": "3.12.3"
  }
 },
 "nbformat": 4,
 "nbformat_minor": 2
}
