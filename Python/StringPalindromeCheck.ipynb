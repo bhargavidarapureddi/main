{
 "cells": [
  {
   "cell_type": "code",
   "execution_count": 1,
   "metadata": {},
   "outputs": [
    {
     "name": "stdout",
     "output_type": "stream",
     "text": [
      "the string is a palindrome\n"
     ]
    }
   ],
   "source": [
    "str = 'aHAhahA'\n",
    "\n",
    "str = str.casefold()\n",
    "rev_str = reversed(str)\n",
    "\n",
    "if list(str) == list(rev_str):\n",
    "     print('the string is a palindrome')\n",
    "else:\n",
    "     print('string is not a palindrome')\n"
   ]
  }
 ],
 "metadata": {
  "kernelspec": {
   "display_name": "Python 3",
   "language": "python",
   "name": "python3"
  },
  "language_info": {
   "codemirror_mode": {
    "name": "ipython",
    "version": 3
   },
   "file_extension": ".py",
   "mimetype": "text/x-python",
   "name": "python",
   "nbconvert_exporter": "python",
   "pygments_lexer": "ipython3",
   "version": "3.12.3"
  }
 },
 "nbformat": 4,
 "nbformat_minor": 2
}
