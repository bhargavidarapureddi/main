{
 "cells": [
  {
   "cell_type": "code",
   "execution_count": 6,
   "metadata": {},
   "outputs": [
    {
     "name": "stdout",
     "output_type": "stream",
     "text": [
      "75.00 kilometers is equal to 46.60 miles\n"
     ]
    }
   ],
   "source": [
    "# Convert kilometers to miles\n",
    "def km_to_miles(kilometers):\n",
    "    conversion_factor = 0.621371\n",
    "    \n",
    "    miles = kilometers * conversion_factor\n",
    "    \n",
    "    return miles\n",
    "\n",
    "def main():\n",
    "    kilometers = float(input(\"Enter distance in kilometers: \"))\n",
    "    \n",
    "    miles = km_to_miles(kilometers)\n",
    "\n",
    "    print('%0.2f kilometers is equal to %0.2f miles' %(kilometers,miles))\n",
    "\n",
    "if __name__ == \"__main__\":\n",
    "    main()\n"
   ]
  },
  {
   "cell_type": "code",
   "execution_count": 2,
   "metadata": {},
   "outputs": [
    {
     "name": "stdout",
     "output_type": "stream",
     "text": [
      "46.602825\n"
     ]
    }
   ],
   "source": [
    "#kilometers to miles conversion\n",
    "km_to_miles=0.621371\n",
    "\n",
    "kilometers=float(input())\n",
    "miles=kilometers*km_to_miles\n",
    "\n",
    "print(miles)"
   ]
  },
  {
   "cell_type": "code",
   "execution_count": 22,
   "metadata": {},
   "outputs": [
    {
     "name": "stdout",
     "output_type": "stream",
     "text": [
      "59.0\n"
     ]
    }
   ],
   "source": [
    "#fahrenheit to celsius conversion\n",
    "\n",
    "fahrenheit = celsius*1.8+32\n",
    "celsius = int(input())\n",
    "\n",
    "print(fahrenheit)"
   ]
  },
  {
   "cell_type": "code",
   "execution_count": 19,
   "metadata": {},
   "outputs": [
    {
     "name": "stdout",
     "output_type": "stream",
     "text": [
      "37.77777777777778\n"
     ]
    }
   ],
   "source": [
    "#celsius to fahrenheit conversion\n",
    "\n",
    "celsius = (fahrenheit-32)/1.8\n",
    "fahrenheit = int(input())\n",
    "\n",
    "print(celsius)"
   ]
  }
 ],
 "metadata": {
  "kernelspec": {
   "display_name": "Python 3",
   "language": "python",
   "name": "python3"
  },
  "language_info": {
   "codemirror_mode": {
    "name": "ipython",
    "version": 3
   },
   "file_extension": ".py",
   "mimetype": "text/x-python",
   "name": "python",
   "nbconvert_exporter": "python",
   "pygments_lexer": "ipython3",
   "version": "3.12.3"
  }
 },
 "nbformat": 4,
 "nbformat_minor": 2
}
