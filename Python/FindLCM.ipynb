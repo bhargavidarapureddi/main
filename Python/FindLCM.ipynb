{
 "cells": [
  {
   "cell_type": "code",
   "execution_count": 18,
   "metadata": {},
   "outputs": [
    {
     "name": "stdout",
     "output_type": "stream",
     "text": [
      "The LCM of 15 and 18 is: 90\n"
     ]
    }
   ],
   "source": [
    "def compute_gcd(x, y):\n",
    "    while y:\n",
    "        x, y = y, x % y\n",
    "    return x\n",
    "\n",
    "def compute_lcm(x, y):\n",
    "    return (x * y) // compute_gcd(x, y)\n",
    "\n",
    "num1 = 15\n",
    "num2 = 18\n",
    "\n",
    "lcm = compute_lcm(num1, num2)\n",
    "print(\"The LCM of\", num1, \"and\", num2, \"is:\", lcm)\n"
   ]
  },
  {
   "cell_type": "code",
   "execution_count": 16,
   "metadata": {},
   "outputs": [
    {
     "name": "stdout",
     "output_type": "stream",
     "text": [
      "The LCM of [24, 36, 48, 97, 65] is: 907920\n"
     ]
    }
   ],
   "source": [
    "import math\n",
    "\n",
    "def compute_lcm(x, y):\n",
    "    return (x * y) // math.gcd(x, y)\n",
    "\n",
    "def compute_lcm_of_list(numbers):\n",
    "    lcm = numbers[0]\n",
    "    for num in numbers[1:]:\n",
    "        lcm = compute_lcm(lcm, num)\n",
    "    return lcm\n",
    "\n",
    "numbers = [24, 36, 48, 97, 65]\n",
    "\n",
    "lcm = compute_lcm_of_list(numbers)\n",
    "print(\"The LCM of\", numbers, \"is:\", lcm)\n"
   ]
  }
 ],
 "metadata": {
  "kernelspec": {
   "display_name": "Python 3",
   "language": "python",
   "name": "python3"
  },
  "language_info": {
   "codemirror_mode": {
    "name": "ipython",
    "version": 3
   },
   "file_extension": ".py",
   "mimetype": "text/x-python",
   "name": "python",
   "nbconvert_exporter": "python",
   "pygments_lexer": "ipython3",
   "version": "3.12.3"
  }
 },
 "nbformat": 4,
 "nbformat_minor": 2
}
