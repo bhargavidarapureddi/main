{
 "cells": [
  {
   "cell_type": "code",
   "execution_count": 16,
   "metadata": {},
   "outputs": [
    {
     "name": "stdout",
     "output_type": "stream",
     "text": [
      "Numbers divisible by 3 between 1 and 20 are: [3, 6, 9, 12, 15, 18]\n"
     ]
    }
   ],
   "source": [
    "divisor = 3\n",
    "start = 1\n",
    "end = 20\n",
    "\n",
    "def numbers(divisor, start, end):\n",
    "    divisible_numbers = []\n",
    "    for num in range(start, end + 1):\n",
    "        if num % divisor == 0:\n",
    "            divisible_numbers.append(num)\n",
    "    return divisible_numbers\n",
    "\n",
    "divisible_numbers = numbers(divisor, start, end)\n",
    "print(\"Numbers divisible by\", divisor, \"between\", start, \"and\", end, \"are:\", divisible_numbers)\n"
   ]
  }
 ],
 "metadata": {
  "kernelspec": {
   "display_name": "Python 3",
   "language": "python",
   "name": "python3"
  },
  "language_info": {
   "codemirror_mode": {
    "name": "ipython",
    "version": 3
   },
   "file_extension": ".py",
   "mimetype": "text/x-python",
   "name": "python",
   "nbconvert_exporter": "python",
   "pygments_lexer": "ipython3",
   "version": "3.12.3"
  }
 },
 "nbformat": 4,
 "nbformat_minor": 2
}
