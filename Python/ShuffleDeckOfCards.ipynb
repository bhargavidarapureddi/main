{
 "cells": [
  {
   "cell_type": "code",
   "execution_count": 30,
   "metadata": {},
   "outputs": [
    {
     "name": "stdout",
     "output_type": "stream",
     "text": [
      "Shuffled deck of cards:\n",
      "('5', 'Hearts')\n",
      "('10', 'Hearts')\n",
      "('4', 'Hearts')\n",
      "('2', 'Hearts')\n",
      "('10', 'Diamonds')\n",
      "('8', 'Diamonds')\n",
      "('9', 'Spades')\n",
      "('8', 'Hearts')\n",
      "('6', 'Clubs')\n",
      "('4', 'Diamonds')\n",
      "('2', 'Diamonds')\n",
      "('5', 'Diamonds')\n",
      "('9', 'Diamonds')\n",
      "('3', 'Diamonds')\n",
      "('6', 'Diamonds')\n",
      "('5', 'Spades')\n",
      "('9', 'Hearts')\n",
      "('2', 'Clubs')\n",
      "('10', 'Spades')\n",
      "('5', 'Clubs')\n",
      "('2', 'Spades')\n",
      "('7', 'Diamonds')\n",
      "('9', 'Clubs')\n",
      "('3', 'Clubs')\n",
      "('7', 'Hearts')\n",
      "('7', 'Clubs')\n",
      "('4', 'Spades')\n",
      "('4', 'Clubs')\n",
      "('8', 'Clubs')\n",
      "('8', 'Spades')\n",
      "('6', 'Hearts')\n",
      "('7', 'Spades')\n",
      "('6', 'Spades')\n",
      "('3', 'Hearts')\n",
      "('10', 'Clubs')\n",
      "('3', 'Spades')\n"
     ]
    }
   ],
   "source": [
    "import random\n",
    "\n",
    "def shuffle_deck():\n",
    "    suits = ['Hearts', 'Diamonds', 'Clubs', 'Spades']\n",
    "    ranks = ['2', '3', '4', '5', '6', '7', '8', '9', '10']\n",
    "    \n",
    "    deck = [(rank, suit) for suit in suits for rank in ranks]\n",
    "    \n",
    "    random.shuffle(deck)\n",
    "    \n",
    "    return deck\n",
    "\n",
    "shuffled_deck = shuffle_deck()\n",
    "print(\"Shuffled deck of cards:\")\n",
    "for card in shuffled_deck:\n",
    "    print(card)"
   ]
  }
 ],
 "metadata": {
  "kernelspec": {
   "display_name": "Python 3",
   "language": "python",
   "name": "python3"
  },
  "language_info": {
   "codemirror_mode": {
    "name": "ipython",
    "version": 3
   },
   "file_extension": ".py",
   "mimetype": "text/x-python",
   "name": "python",
   "nbconvert_exporter": "python",
   "pygments_lexer": "ipython3",
   "version": "3.12.3"
  }
 },
 "nbformat": 4,
 "nbformat_minor": 2
}
