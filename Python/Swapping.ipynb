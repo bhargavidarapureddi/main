{
 "cells": [
  {
   "cell_type": "code",
   "execution_count": 2,
   "metadata": {},
   "outputs": [
    {
     "name": "stdout",
     "output_type": "stream",
     "text": [
      "a value after swapping:150\n",
      "b value after swapping:100\n"
     ]
    }
   ],
   "source": [
    "#swapping numbers\n",
    "\n",
    "a=100\n",
    "b=150\n",
    "temp=a\n",
    "a=b\n",
    "b=temp\n",
    "print(\"a value after swapping:{}\".format(a))\n",
    "print(\"b value after swapping:{}\".format(b))"
   ]
  }
 ],
 "metadata": {
  "kernelspec": {
   "display_name": "Python 3",
   "language": "python",
   "name": "python3"
  },
  "language_info": {
   "codemirror_mode": {
    "name": "ipython",
    "version": 3
   },
   "file_extension": ".py",
   "mimetype": "text/x-python",
   "name": "python",
   "nbconvert_exporter": "python",
   "pygments_lexer": "ipython3",
   "version": "3.12.3"
  }
 },
 "nbformat": 4,
 "nbformat_minor": 2
}
