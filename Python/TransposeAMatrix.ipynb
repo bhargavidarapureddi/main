{
 "cells": [
  {
   "cell_type": "code",
   "execution_count": 7,
   "metadata": {},
   "outputs": [
    {
     "name": "stdout",
     "output_type": "stream",
     "text": [
      "[9, 6, 7]\n",
      "[5, 3, 1]\n"
     ]
    }
   ],
   "source": [
    "A = [[9, 5], [6, 3], [7, 1]]\n",
    "result = [[0, 0, 0], [0, 0, 0]]\n",
    "\n",
    "for i in range(len(A)):\n",
    "   for j in range(len(A[0])):\n",
    "       result[j][i] = A[i][j]\n",
    "\n",
    "for r in result:\n",
    "   print(r)"
   ]
  }
 ],
 "metadata": {
  "kernelspec": {
   "display_name": "Python 3",
   "language": "python",
   "name": "python3"
  },
  "language_info": {
   "codemirror_mode": {
    "name": "ipython",
    "version": 3
   },
   "file_extension": ".py",
   "mimetype": "text/x-python",
   "name": "python",
   "nbconvert_exporter": "python",
   "pygments_lexer": "ipython3",
   "version": "3.12.3"
  }
 },
 "nbformat": 4,
 "nbformat_minor": 2
}
