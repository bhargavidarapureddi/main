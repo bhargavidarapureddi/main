{
 "cells": [
  {
   "cell_type": "code",
   "execution_count": 2,
   "metadata": {},
   "outputs": [
    {
     "name": "stdout",
     "output_type": "stream",
     "text": [
      "The H.C.F. is 6\n"
     ]
    }
   ],
   "source": [
    "def compute_hcf(x, y):\n",
    "    smaller = min(x, y)\n",
    "    for i in range(smaller, 0, -1):\n",
    "        if x % i == 0 and y % i == 0:\n",
    "            return i\n",
    "\n",
    "num1 = 54\n",
    "num2 = 24\n",
    "\n",
    "print(\"The H.C.F. is\", compute_hcf(num1, num2))\n"
   ]
  },
  {
   "cell_type": "code",
   "execution_count": 7,
   "metadata": {},
   "outputs": [
    {
     "name": "stdout",
     "output_type": "stream",
     "text": [
      "The H.C.F. is 5\n"
     ]
    }
   ],
   "source": [
    "def compute_hcf(numbers):\n",
    "    if len(numbers) < 2:\n",
    "        return None\n",
    "    \n",
    "    hcf = numbers[0]\n",
    "    for num in numbers[1:]:\n",
    "        while num:\n",
    "            hcf, num = num, hcf % num\n",
    "    return hcf\n",
    "\n",
    "numbers = [225,205,100,705,480]\n",
    "\n",
    "print(\"The H.C.F. is\", compute_hcf(numbers))\n"
   ]
  }
 ],
 "metadata": {
  "kernelspec": {
   "display_name": "Python 3",
   "language": "python",
   "name": "python3"
  },
  "language_info": {
   "codemirror_mode": {
    "name": "ipython",
    "version": 3
   },
   "file_extension": ".py",
   "mimetype": "text/x-python",
   "name": "python",
   "nbconvert_exporter": "python",
   "pygments_lexer": "ipython3",
   "version": "3.12.3"
  }
 },
 "nbformat": 4,
 "nbformat_minor": 2
}
