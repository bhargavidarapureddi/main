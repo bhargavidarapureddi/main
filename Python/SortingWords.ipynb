{
 "cells": [
  {
   "cell_type": "code",
   "execution_count": 20,
   "metadata": {},
   "outputs": [
    {
     "name": "stdout",
     "output_type": "stream",
     "text": [
      "Sorted words: ['dresses', 'fruits', 'movie', 'phone', 'watch']\n"
     ]
    }
   ],
   "source": [
    "def sort_words(words):\n",
    "    sorted_words = sorted(words)\n",
    "    return sorted_words\n",
    "\n",
    "def main():\n",
    "    words_input = input(\"Enter a list of words separated by spaces: \")\n",
    "\n",
    "    words_list = words_input.split()\n",
    "\n",
    "    sorted_words = sort_words(words_list)\n",
    "\n",
    "    print(\"Sorted words:\", sorted_words)\n",
    "\n",
    "if __name__ == \"__main__\":\n",
    "    main()\n"
   ]
  }
 ],
 "metadata": {
  "kernelspec": {
   "display_name": "Python 3",
   "language": "python",
   "name": "python3"
  },
  "language_info": {
   "codemirror_mode": {
    "name": "ipython",
    "version": 3
   },
   "file_extension": ".py",
   "mimetype": "text/x-python",
   "name": "python",
   "nbconvert_exporter": "python",
   "pygments_lexer": "ipython3",
   "version": "3.12.3"
  }
 },
 "nbformat": 4,
 "nbformat_minor": 2
}
