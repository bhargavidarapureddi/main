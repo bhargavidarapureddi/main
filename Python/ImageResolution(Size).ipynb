{
 "cells": [
  {
   "cell_type": "code",
   "execution_count": 25,
   "metadata": {},
   "outputs": [
    {
     "name": "stdout",
     "output_type": "stream",
     "text": [
      "dimensions: 1089 x 702\n"
     ]
    }
   ],
   "source": [
    "from PIL import Image\n",
    "\n",
    "def get_image_size(image_path):\n",
    "    with Image.open(image_path) as img:\n",
    "        width, height = img.size\n",
    "    return width, height\n",
    "\n",
    "image_path = \"C:\\\\Users\\\\1038591\\\\OneDrive - Blue Yonder\\\\Pictures\\\\Screenshots\\\\Screenshot 2024-05-09 124753.png\"\n",
    "width, height = get_image_size(image_path)\n",
    "print(\"dimensions:\", width, 'x', height)"
   ]
  }
 ],
 "metadata": {
  "kernelspec": {
   "display_name": "Python 3",
   "language": "python",
   "name": "python3"
  },
  "language_info": {
   "codemirror_mode": {
    "name": "ipython",
    "version": 3
   },
   "file_extension": ".py",
   "mimetype": "text/x-python",
   "name": "python",
   "nbconvert_exporter": "python",
   "pygments_lexer": "ipython3",
   "version": "3.12.3"
  }
 },
 "nbformat": 4,
 "nbformat_minor": 2
}
