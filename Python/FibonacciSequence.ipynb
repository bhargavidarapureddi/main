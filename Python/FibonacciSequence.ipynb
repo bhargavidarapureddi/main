{
 "cells": [
  {
   "cell_type": "code",
   "execution_count": 8,
   "metadata": {},
   "outputs": [
    {
     "name": "stdout",
     "output_type": "stream",
     "text": [
      "Fibonacci sequence up to 15 terms: [0, 1, 1, 2, 3, 5, 8, 13, 21, 34, 55, 89, 144, 233, 377]\n"
     ]
    }
   ],
   "source": [
    "def fibonacci_sequence(n):\n",
    "    fib_sequence = []\n",
    "    if n <= 0:\n",
    "        return fib_sequence\n",
    "    elif n == 1:\n",
    "        return [0] \n",
    "    elif n == 2:\n",
    "        return [0, 1]\n",
    "    else:\n",
    "        fib_sequence = [0, 1]\n",
    "        for i in range(2, n):\n",
    "            next_term = fib_sequence[i - 1] + fib_sequence[i - 2]\n",
    "            fib_sequence.append(next_term)\n",
    "        return fib_sequence\n",
    "\n",
    "num_terms = 15\n",
    "fib_sequence = fibonacci_sequence(num_terms)\n",
    "print(\"Fibonacci sequence up to\", num_terms, \"terms:\", fib_sequence)\n"
   ]
  }
 ],
 "metadata": {
  "kernelspec": {
   "display_name": "Python 3",
   "language": "python",
   "name": "python3"
  },
  "language_info": {
   "codemirror_mode": {
    "name": "ipython",
    "version": 3
   },
   "file_extension": ".py",
   "mimetype": "text/x-python",
   "name": "python",
   "nbconvert_exporter": "python",
   "pygments_lexer": "ipython3",
   "version": "3.12.3"
  }
 },
 "nbformat": 4,
 "nbformat_minor": 2
}
