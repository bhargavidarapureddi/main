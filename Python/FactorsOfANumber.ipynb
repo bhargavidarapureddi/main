{
 "cells": [
  {
   "cell_type": "code",
   "execution_count": 13,
   "metadata": {},
   "outputs": [
    {
     "name": "stdout",
     "output_type": "stream",
     "text": [
      "factors of 250 are:\n",
      "1\n",
      "2\n",
      "5\n",
      "10\n",
      "25\n",
      "50\n",
      "125\n",
      "250\n"
     ]
    }
   ],
   "source": [
    "num = 250\n",
    "\n",
    "def num_factors(n):\n",
    " \n",
    "    \n",
    "    print('factors of',n,'are:')\n",
    "    for i in range(1,n+1):\n",
    "        if n%i == 0:\n",
    "            print(i)\n",
    "\n",
    "num_factors(num)"
   ]
  }
 ],
 "metadata": {
  "kernelspec": {
   "display_name": "Python 3",
   "language": "python",
   "name": "python3"
  },
  "language_info": {
   "codemirror_mode": {
    "name": "ipython",
    "version": 3
   },
   "file_extension": ".py",
   "mimetype": "text/x-python",
   "name": "python",
   "nbconvert_exporter": "python",
   "pygments_lexer": "ipython3",
   "version": "3.12.3"
  }
 },
 "nbformat": 4,
 "nbformat_minor": 2
}
