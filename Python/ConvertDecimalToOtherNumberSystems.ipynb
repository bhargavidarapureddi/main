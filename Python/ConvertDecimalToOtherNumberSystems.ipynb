{
 "cells": [
  {
   "cell_type": "code",
   "execution_count": 1,
   "metadata": {},
   "outputs": [
    {
     "name": "stdout",
     "output_type": "stream",
     "text": [
      "The decimal value of 55 is:\n",
      "0b110111 in binary.\n",
      "0o67 in octal.\n",
      "0x37 in hexadecimal.\n"
     ]
    }
   ],
   "source": [
    "dec = 55\n",
    "\n",
    "print(\"The decimal value of\", dec, \"is:\")\n",
    "print(bin(dec), \"in binary.\")\n",
    "print(oct(dec), \"in octal.\")\n",
    "print(hex(dec), \"in hexadecimal.\")\n"
   ]
  },
  {
   "cell_type": "code",
   "execution_count": 4,
   "metadata": {},
   "outputs": [
    {
     "name": "stdout",
     "output_type": "stream",
     "text": [
      "0b1100100 in binary\n",
      "0o144 in octal\n",
      "0x64 in hexadecimal\n"
     ]
    }
   ],
   "source": [
    "decimal_number = 100\n",
    "\n",
    "binary_number = bin(decimal_number)\n",
    "print(bin(decimal_number),'in binary')\n",
    "\n",
    "octal_number = oct((decimal_number))\n",
    "print(oct(decimal_number),'in octal')\n",
    "\n",
    "hexadecimal_number = hex((decimal_number))\n",
    "print(hex(decimal_number),'in hexadecimal')"
   ]
  }
 ],
 "metadata": {
  "kernelspec": {
   "display_name": "Python 3",
   "language": "python",
   "name": "python3"
  },
  "language_info": {
   "codemirror_mode": {
    "name": "ipython",
    "version": 3
   },
   "file_extension": ".py",
   "mimetype": "text/x-python",
   "name": "python",
   "nbconvert_exporter": "python",
   "pygments_lexer": "ipython3",
   "version": "3.12.3"
  }
 },
 "nbformat": 4,
 "nbformat_minor": 2
}
