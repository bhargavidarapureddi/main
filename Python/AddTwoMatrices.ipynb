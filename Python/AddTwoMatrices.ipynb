{
 "cells": [
  {
   "cell_type": "code",
   "execution_count": 13,
   "metadata": {},
   "outputs": [
    {
     "name": "stdout",
     "output_type": "stream",
     "text": [
      "[19, 12, 5]\n",
      "[12, 3, 8]\n",
      "[9, 6, 16]\n"
     ]
    }
   ],
   "source": [
    "A = [[9, 5, 1], [6, 3, 0], [8, 1, 5]]\n",
    "B = [[10, 7, 4], [6, 0, 8], [1, 5, 11]]\n",
    "result = [[0, 0, 0], [0, 0, 0], [0, 0, 0]]\n",
    "\n",
    "for i in range(len(A)):\n",
    "   for j in range(len(A[0])):\n",
    "       result[i][j] = A[i][j] + B[i][j]\n",
    "\n",
    "for r in result:\n",
    "   print(r)"
   ]
  }
 ],
 "metadata": {
  "kernelspec": {
   "display_name": "Python 3",
   "language": "python",
   "name": "python3"
  },
  "language_info": {
   "codemirror_mode": {
    "name": "ipython",
    "version": 3
   },
   "file_extension": ".py",
   "mimetype": "text/x-python",
   "name": "python",
   "nbconvert_exporter": "python",
   "pygments_lexer": "ipython3",
   "version": "3.12.3"
  }
 },
 "nbformat": 4,
 "nbformat_minor": 2
}
